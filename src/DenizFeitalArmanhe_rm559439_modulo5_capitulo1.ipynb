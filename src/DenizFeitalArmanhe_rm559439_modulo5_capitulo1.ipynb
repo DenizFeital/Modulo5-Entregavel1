{
 "cells": [
  {
   "cell_type": "code",
   "execution_count": 1,
   "id": "217f1e73-afce-473d-a9c7-1e3dc761ae12",
   "metadata": {},
   "outputs": [
    {
     "ename": "ModuleNotFoundError",
     "evalue": "No module named 'xgboost'",
     "output_type": "error",
     "traceback": [
      "\u001b[1;31m---------------------------------------------------------------------------\u001b[0m",
      "\u001b[1;31mModuleNotFoundError\u001b[0m                       Traceback (most recent call last)",
      "Cell \u001b[1;32mIn[1], line 7\u001b[0m\n\u001b[0;32m      5\u001b[0m \u001b[38;5;28;01mfrom\u001b[39;00m \u001b[38;5;21;01msklearn\u001b[39;00m\u001b[38;5;21;01m.\u001b[39;00m\u001b[38;5;21;01msvm\u001b[39;00m \u001b[38;5;28;01mimport\u001b[39;00m SVR\n\u001b[0;32m      6\u001b[0m \u001b[38;5;28;01mfrom\u001b[39;00m \u001b[38;5;21;01msklearn\u001b[39;00m\u001b[38;5;21;01m.\u001b[39;00m\u001b[38;5;21;01mneighbors\u001b[39;00m \u001b[38;5;28;01mimport\u001b[39;00m KNeighborsRegressor\n\u001b[1;32m----> 7\u001b[0m \u001b[38;5;28;01mimport\u001b[39;00m \u001b[38;5;21;01mxgboost\u001b[39;00m \u001b[38;5;28;01mas\u001b[39;00m \u001b[38;5;21;01mxgb\u001b[39;00m\n\u001b[0;32m      8\u001b[0m \u001b[38;5;28;01mfrom\u001b[39;00m \u001b[38;5;21;01msklearn\u001b[39;00m\u001b[38;5;21;01m.\u001b[39;00m\u001b[38;5;21;01mmetrics\u001b[39;00m \u001b[38;5;28;01mimport\u001b[39;00m mean_squared_error, r2_score\n\u001b[0;32m      9\u001b[0m \u001b[38;5;28;01mimport\u001b[39;00m \u001b[38;5;21;01mnumpy\u001b[39;00m \u001b[38;5;28;01mas\u001b[39;00m \u001b[38;5;21;01mnp\u001b[39;00m\n",
      "\u001b[1;31mModuleNotFoundError\u001b[0m: No module named 'xgboost'"
     ]
    }
   ],
   "source": [
    "import pandas as pd\n",
    "from sklearn.model_selection import train_test_split\n",
    "from sklearn.linear_model import LinearRegression\n",
    "from sklearn.tree import DecisionTreeRegressor\n",
    "from sklearn.svm import SVR\n",
    "from sklearn.neighbors import KNeighborsRegressor\n",
    "import xgboost as xgb\n",
    "from sklearn.metrics import mean_squared_error, r2_score\n",
    "import numpy as np\n",
    "import matplotlib.pyplot as plt\n",
    "import seaborn as sns\n",
    "from sklearn.ensemble import IsolationForest\n",
    "from sklearn.preprocessing import LabelEncoder\n",
    "from sklearn.preprocessing import StandardScaler\n",
    "from sklearn.cluster import KMeans\n",
    "\n",
    "# Carregar o arquivo CSV\n",
    "df = pd.read_csv('crop_yield.csv')\n",
    "\n",
    "# Codificar a coluna 'Cultura' para valores numéricos usando Label Encoding\n",
    "le = LabelEncoder()\n",
    "df['Cultura_encoded'] = le.fit_transform(df['Cultura'])\n",
    "\n",
    "# Excluir a coluna 'Cultura' original da análise de clusterização\n",
    "data = df[['Precipitacao', 'Humidade', 'Humidade_relativa', 'Temperatura', 'Colheita', 'Cultura_encoded']]\n",
    "\n",
    "# Realizar a clusterização usando KMeans com 4 clusters\n",
    "kmeans = KMeans(n_clusters=4, random_state=0)\n",
    "df['Cluster'] = kmeans.fit_predict(data)\n",
    "\n",
    "# Visualizar os clusters\n",
    "plt.figure(figsize=(10, 6))\n",
    "sns.scatterplot(x='Temperatura', y='Colheita', hue='Cluster', data=df, palette='viridis')\n",
    "plt.title('Clusterização dos Rendimentos das Plantações')\n",
    "plt.xlabel('Temperatura')\n",
    "plt.ylabel('Colheita')\n",
    "plt.show()\n",
    "\n",
    "# Identificar cenários discrepantes (outliers) usando Isolation Forest\n",
    "iso_forest = IsolationForest(contamination=0.1, random_state=0)\n",
    "df['Outlier'] = iso_forest.fit_predict(data)\n",
    "\n",
    "# Visualizar os outliers\n",
    "plt.figure(figsize=(10, 6))\n",
    "sns.scatterplot(x='Temperatura', y='Colheita', hue='Outlier', data=df, palette='coolwarm')\n",
    "plt.title('Identificação de Cenários Discrepantes (Outliers)')\n",
    "plt.xlabel('Temperatura')\n",
    "plt.ylabel('Colheita')\n",
    "plt.show()\n",
    "\n",
    "# Exibir os resultados dos outliers (cenários discrepantes)\n",
    "print(\"\\nIdentificação de Cenários Discrepantes (Outliers):\")\n",
    "print(df[df['Outlier'] == -1][['Cultura', 'Cultura_encoded', 'Precipitacao', 'Humidade', 'Humidade_relativa', 'Temperatura', 'Colheita']])\n",
    "\n",
    "# Boxplot para visualizar outliers nas variáveis\n",
    "plt.figure(figsize=(14, 8))\n",
    "sns.boxplot(data=df[['Precipitacao', 'Humidade', 'Humidade_relativa', 'Temperatura', 'Colheita']])\n",
    "plt.title('Boxplot das Colunas para Identificação de Outliers')\n",
    "plt.xticks(rotation=45)\n",
    "plt.show()\n",
    "\n",
    "# Exibindo as estatísticas descritivas para cada coluna numérica\n",
    "print(\"\\nEstatísticas descritivas para cada coluna:\")\n",
    "print(df[['Precipitacao', 'Humidade', 'Humidade_relativa', 'Temperatura', 'Colheita']].describe())\n",
    "\n",
    "# Dividir os dados em features e target (Colheita é o alvo)\n",
    "X = df[['Precipitacao', 'Humidade', 'Humidade_relativa', 'Temperatura', 'Cultura_encoded']]\n",
    "y = df['Colheita']\n",
    "\n",
    "# Dividir os dados em treino e teste\n",
    "X_train, X_test, y_train, y_test = train_test_split(X, y, test_size=0.2, random_state=42)\n",
    "\n",
    "# Normalizar os dados (opcional, mas recomendado para alguns modelos)\n",
    "scaler = StandardScaler()\n",
    "X_train_scaled = scaler.fit_transform(X_train)\n",
    "X_test_scaled = scaler.transform(X_test)\n",
    "\n",
    "# Função para avaliar o modelo\n",
    "def avaliar_modelo(modelo, X_train, X_test, y_train, y_test):\n",
    "    # Treinar o modelo\n",
    "    modelo.fit(X_train, y_train)\n",
    "    \n",
    "    # Fazer previsões\n",
    "    y_pred = modelo.predict(X_test)\n",
    "    \n",
    "    # Calcular o RMSE manualmente\n",
    "    rmse = np.sqrt(mean_squared_error(y_test, y_pred))\n",
    "    print(f\"Root Mean Squared Error (RMSE) for {modelo.__class__.__name__}: {rmse}\")\n",
    "    \n",
    "    # Calcular o R²\n",
    "    r2 = r2_score(y_test, y_pred)\n",
    "    print(f\"R² for {modelo.__class__.__name__}: {r2}\")\n",
    "    \n",
    "    # Plotando o gráfico de dispersão das previsões versus valores reais\n",
    "    plt.figure(figsize=(10, 6))\n",
    "    plt.scatter(y_test, y_pred, alpha=0.7, edgecolors=\"k\", color='orange')\n",
    "    plt.plot([min(y_test), max(y_test)], [min(y_test), max(y_test)], color='blue', linestyle='--')\n",
    "    plt.title(f\"Previsões vs Real ({modelo.__class__.__name__})\")\n",
    "    plt.xlabel(\"Valor Real\")\n",
    "    plt.ylabel(\"Previsão\")\n",
    "    plt.show()\n",
    "\n",
    "    return rmse, r2  # Retorna o RMSE e o R² para classificação posterior\n",
    "\n",
    "# Modelos para testar\n",
    "modelos = {\n",
    "    \"Linear Regression\": LinearRegression(),\n",
    "    \"Decision Tree\": DecisionTreeRegressor(),\n",
    "    \"SVM\": SVR(),\n",
    "    \"KNN\": KNeighborsRegressor(),\n",
    "    \"XGBoost\": xgb.XGBRegressor(objective='reg:squarederror')\n",
    "}\n",
    "\n",
    "# Avaliar cada modelo e armazenar o RMSE e R²\n",
    "resultados_rmse = []\n",
    "resultados_r2 = []\n",
    "\n",
    "for nome, modelo in modelos.items():\n",
    "    print(f\"\\nAvaliação do modelo: {nome}\")\n",
    "    rmse, r2 = avaliar_modelo(modelo, X_train_scaled, X_test_scaled, y_train, y_test)\n",
    "    resultados_rmse.append((nome, rmse))  # Armazenando o nome e o RMSE\n",
    "    resultados_r2.append((nome, r2))  # Armazenando o nome e o R²\n",
    "\n",
    "# Classificar os modelos com base no RMSE (do melhor para o pior)\n",
    "resultados_rmse.sort(key=lambda x: x[1])  # Ordena pelo RMSE, do menor para o maior\n",
    "\n",
    "# Classificar os modelos com base no R² (do melhor para o pior)\n",
    "resultados_r2.sort(key=lambda x: x[1], reverse=True)  # Ordena pelo R², do maior para o menor\n",
    "\n",
    "# Exibir a classificação baseada no RMSE\n",
    "print(\"\\nClassificação dos Modelos com base no RMSE (do melhor para o pior):\")\n",
    "for i, (nome, rmse) in enumerate(resultados_rmse, 1):\n",
    "    print(f\"{i}. {nome}: RMSE = {rmse}\")\n",
    "\n",
    "# Exibir a classificação baseada no R²\n",
    "print(\"\\nClassificação dos Modelos com base no R² (do melhor para o pior):\")\n",
    "for i, (nome, r2) in enumerate(resultados_r2, 1):\n",
    "    print(f\"{i}. {nome}: R² = {r2}\")\n"
   ]
  },
  {
   "cell_type": "code",
   "execution_count": 2,
   "id": "49757e24-5cdb-4556-90b4-1366e63b8f19",
   "metadata": {},
   "outputs": [
    {
     "name": "stdout",
     "output_type": "stream",
     "text": [
      "C:\\Python312\\python.exe\n"
     ]
    }
   ],
   "source": [
    "import sys\n",
    "print(sys.executable)\n"
   ]
  },
  {
   "cell_type": "code",
   "execution_count": 4,
   "id": "2c55b81e-599a-483e-b02d-ccec277eeb0b",
   "metadata": {},
   "outputs": [
    {
     "name": "stdout",
     "output_type": "stream",
     "text": [
      "Requirement already satisfied: xgboost in c:\\users\\denizf\\onedrive - familia armanhe\\graduação\\fiap\\modulo 5\\modulo5-entregavel1\\src\\venv\\lib\\site-packages (3.0.0)\n",
      "Requirement already satisfied: numpy in c:\\users\\denizf\\onedrive - familia armanhe\\graduação\\fiap\\modulo 5\\modulo5-entregavel1\\src\\venv\\lib\\site-packages (from xgboost) (2.2.4)\n",
      "Requirement already satisfied: scipy in c:\\users\\denizf\\onedrive - familia armanhe\\graduação\\fiap\\modulo 5\\modulo5-entregavel1\\src\\venv\\lib\\site-packages (from xgboost) (1.15.2)\n"
     ]
    },
    {
     "name": "stderr",
     "output_type": "stream",
     "text": [
      "\n",
      "[notice] A new release of pip is available: 24.3.1 -> 25.0.1\n",
      "[notice] To update, run: python.exe -m pip install --upgrade pip\n"
     ]
    }
   ],
   "source": [
    "!pip install xgboost\n"
   ]
  },
  {
   "cell_type": "code",
   "execution_count": null,
   "id": "644bae68-9ee4-49e0-af56-a31fa05be611",
   "metadata": {},
   "outputs": [],
   "source": []
  }
 ],
 "metadata": {
  "kernelspec": {
   "display_name": "Python 3 (ipykernel)",
   "language": "python",
   "name": "python3"
  },
  "language_info": {
   "codemirror_mode": {
    "name": "ipython",
    "version": 3
   },
   "file_extension": ".py",
   "mimetype": "text/x-python",
   "name": "python",
   "nbconvert_exporter": "python",
   "pygments_lexer": "ipython3",
   "version": "3.12.9"
  }
 },
 "nbformat": 4,
 "nbformat_minor": 5
}
